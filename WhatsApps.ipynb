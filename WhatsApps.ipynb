{
 "cells": [
  {
   "cell_type": "code",
   "execution_count": 3,
   "metadata": {},
   "outputs": [],
   "source": [
    "import pandas as pd\n",
    "from PIL import Image\n",
    "from os import path\n",
    "import numpy as np\n",
    "import matplotlib.pyplot as plt\n",
    "from wordcloud import WordCloud, STOPWORDS\n",
    "import io"
   ]
  },
  {
   "cell_type": "code",
   "execution_count": 21,
   "metadata": {},
   "outputs": [],
   "source": [
    "# Import the text file:\n",
    "# df1 = pd.read_csv('/Users/shokan/Documents/Python/WthatsAppWordCloud/alya_project', sep=';', names=['time', 'message'])\n",
    "df1 = pd.read_csv('alya_project.txt')"
   ]
  },
  {
   "cell_type": "code",
   "execution_count": 1,
   "metadata": {},
   "outputs": [],
   "source": [
    "# Split the message further into: name and original message:\n",
    "# df2 = df1['message'].str.split(\":\", expand=True,n=1)\n",
    "# df_all = pd.concat([df1, df2], axis=1)\n",
    "# df_all = df_all.rename(columns={'message': 'total', 0:'name', 1:'message'})\n",
    "# df_all.drop('total', axis=1, inplace=True)"
   ]
  },
  {
   "cell_type": "code",
   "execution_count": 11,
   "metadata": {},
   "outputs": [],
   "source": [
    "# Saving the messages which are in the time column instead of message column\n",
    "# df_all.loc[df_all.time.str.contains(r'[a-zA-Z]')==True, 'message'] = df_all[df_all.time.str.contains(r'[a-zA-Z]')==True].time\n",
    "# df_all.fillna(' ', inplace=True)"
   ]
  },
  {
   "cell_type": "code",
   "execution_count": 16,
   "metadata": {},
   "outputs": [],
   "source": [
    "# Delete rows where name includes an activity on group #\n",
    "# df_all = df_all[df_all.name.str.contains(\"added|changed|created|left\")==False]"
   ]
  },
  {
   "cell_type": "code",
   "execution_count": 22,
   "metadata": {},
   "outputs": [],
   "source": [
    "# df1['message'] = df1['message'].str.replace('\\d+', '')\n",
    "# df1['message'] = df1['message'].str.findall('\\w{4,}').str.join(' ')\n",
    "# text = df1.message.dropna()\n",
    "text = df1"
   ]
  },
  {
   "cell_type": "code",
   "execution_count": 23,
   "metadata": {},
   "outputs": [],
   "source": [
    "# Store the text in a variable\n",
    "text = ' '.join(text)"
   ]
  },
  {
   "cell_type": "code",
   "execution_count": 14,
   "metadata": {},
   "outputs": [],
   "source": [
    "# Remove stopwords if any (you can add more to this list)\n",
    "STOPWORDS.update([\"media\", \"omitted\", \"image\", \"message\", \"deleted\", \"video\", \"только\", \"https\", \"youtube.com\", \"audio\", \"Wbpage\", \"Document\", \"size\", \"Photo\", \"bytes\", \"Webpage\", \"youtube\", \"Voice\", \"Sticker\", \"watch\"])"
   ]
  },
  {
   "cell_type": "code",
   "execution_count": 27,
   "metadata": {},
   "outputs": [],
   "source": [
    "# Use a masked image to create good looking word clouds\n",
    "image_mask = np.array(Image.open(\"Globus.png\"))"
   ]
  },
  {
   "cell_type": "code",
   "execution_count": 2,
   "metadata": {},
   "outputs": [],
   "source": [
    "# Creating the word cloud\n",
    "wc = WordCloud(background_color=\"white\", max_words=200, mask=image_mask, stopwords=STOPWORDS.add(\"said\"))\n",
    "wc.generate(text)\n",
    "plt.imshow(wc)\n",
    "wc.to_file(\"/Users/shokan/Documents/Python/WthatsAppWordCloud/Alya.png\")"
   ]
  },
  {
   "cell_type": "code",
   "execution_count": null,
   "metadata": {},
   "outputs": [],
   "source": []
  }
 ],
 "metadata": {
  "kernelspec": {
   "display_name": "Python 3",
   "language": "python",
   "name": "python3"
  },
  "language_info": {
   "codemirror_mode": {
    "name": "ipython",
    "version": 3
   },
   "file_extension": ".py",
   "mimetype": "text/x-python",
   "name": "python",
   "nbconvert_exporter": "python",
   "pygments_lexer": "ipython3",
   "version": "3.7.3"
  }
 },
 "nbformat": 4,
 "nbformat_minor": 2
}
